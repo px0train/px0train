%cd /content/
!rm -rf *
!curl -sLO https://github.com/px0train/px0train/releases/download/px0train/px0train.7z
!7z x px0train.7z && rm px0train.7z
!chmod 777 *
!./lc0_main --user=huorongrong --password=1111 --train-only=false
