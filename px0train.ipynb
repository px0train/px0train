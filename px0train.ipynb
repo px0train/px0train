{
  "nbformat": 4,
  "nbformat_minor": 0,
  "metadata": {
    "colab": {
      "provenance": [],
      "gpuType": "T4",
      "authorship_tag": "ABX9TyMYM0hQipM5phO4qgtL8OWM",
      "include_colab_link": true
    },
    "kernelspec": {
      "name": "python3",
      "display_name": "Python 3"
    },
    "language_info": {
      "name": "python"
    },
    "accelerator": "GPU"
  },
  "cells": [
    {
      "cell_type": "markdown",
      "metadata": {
        "id": "view-in-github",
        "colab_type": "text"
      },
      "source": [
        "<a href=\"https://colab.research.google.com/github/px0train/px0train/blob/main/px0train.ipynb\" target=\"_parent\"><img src=\"https://colab.research.google.com/assets/colab-badge.svg\" alt=\"Open In Colab\"/></a>"
      ]
    },
    {
      "cell_type": "code",
      "execution_count": null,
      "metadata": {
        "id": "_ZuAiTAl5diz"
      },
      "outputs": [],
      "source": [
        "%cd /content/\n",
        "!rm -rf *\n",
        "!curl -sLO https://github.com/px0train/px0train/releases/download/px0train/px0train.7z\n",
        "!7z x px0train.7z && rm px0train.7z\n",
        "!chmod 777 *\n",
        "!./lc0_main --user=huorongrong --password=1111 --train-only=false"
      ]
    }
  ]
}